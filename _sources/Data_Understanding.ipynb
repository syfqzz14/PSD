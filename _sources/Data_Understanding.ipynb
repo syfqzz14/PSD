{
  "nbformat": 4,
  "nbformat_minor": 0,
  "metadata": {
    "colab": {
      "provenance": []
    },
    "kernelspec": {
      "name": "python3",
      "display_name": "Python 3"
    },
    "language_info": {
      "name": "python"
    }
  },
  "cells": [
    {
      "cell_type": "markdown",
      "source": [
        "# 📊Data Understanding\n",
        "\n",
        "Dataset yang digunakan berasal dari Kaggle dengan judul Stroke Prediction Dataset. Dataset ini berisi 5.110 baris data pasien dengan 12 kolom variabel. Variabel yang tersedia mencakup:\n",
        "\n",
        "    Variabel numerik: age, avg_glucose_level, dan bmi.\n",
        "\n",
        "    Variabel kategorikal: gender, hypertension, heart_disease, ever_married, work_type, Residence_type, smoking_status.\n",
        "\n",
        "    Variabel target: stroke, yang menunjukkan apakah pasien pernah mengalami stroke (1) atau tidak (0).\n",
        "\n",
        "Beberapa hal penting yang ditemukan dari tahap pemahaman data ini adalah:\n",
        "\n",
        "**Ukuran dataset** relatif sedang, tidak terlalu besar sehingga mudah untuk diolah namun cukup kaya informasi.\n",
        "\n",
        "**Ketidakseimbangan** kelas ditemukan, di mana jumlah pasien yang mengalami stroke jauh lebih sedikit dibandingkan pasien yang tidak mengalami stroke. Hal ini penting karena bisa memengaruhi hasil analisis maupun akurasi model prediksi.\n",
        "\n",
        "**Missing values** terdapat pada variabel bmi, yang perlu ditangani agar hasil analisis tidak bias. Metode imputasi atau penghapusan data dapat dipertimbangkan pada tahap selanjutnya.\n",
        "\n",
        "**Tipe data** masih cukup konsisten, meskipun perlu dicek ulang apakah semua kategori sudah sesuai, misalnya jenis kelamin hanya terdiri dari Male, Female, dan kategori lain yang valid.\n",
        "\n",
        "Melalui tahap Data Understanding ini, kita memperoleh gambaran menyeluruh mengenai kondisi data. Dataset ini cukup representatif untuk menganalisis faktor risiko stroke, namun tetap membutuhkan beberapa proses pembersihan sebelum dilakukan analisis lebih lanjut."
      ],
      "metadata": {
        "id": "E-CV1d1ZS4eV"
      }
    }
  ]
}