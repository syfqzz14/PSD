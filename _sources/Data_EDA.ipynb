{
  "nbformat": 4,
  "nbformat_minor": 0,
  "metadata": {
    "colab": {
      "provenance": []
    },
    "kernelspec": {
      "name": "python3",
      "display_name": "Python 3"
    },
    "language_info": {
      "name": "python"
    }
  },
  "cells": [
    {
      "cell_type": "markdown",
      "source": [
        "# Exploratory Data Analysis (EDA)\n",
        "\n",
        "Tahap eksplorasi data dilakukan untuk menggali lebih dalam pola, distribusi, serta hubungan antar variabel yang berkaitan dengan kejadian stroke. Beberapa temuan penting dari eksplorasi ini dapat diceritakan sebagai berikut:\n",
        "\n",
        "1. Distribusi Variabel Target\n",
        "Jumlah pasien yang pernah mengalami stroke jauh lebih sedikit dibandingkan pasien yang tidak mengalami stroke. Hal ini menegaskan bahwa dataset bersifat imbalanced. Kondisi ini penting untuk diperhatikan karena dapat membuat model prediksi “cenderung memilih mayoritas” jika tidak ditangani dengan tepat.\n",
        "\n",
        "2. Distribusi Usia (Age)\n",
        "Analisis awal menunjukkan bahwa usia memiliki peranan penting dalam risiko stroke. Pasien dengan usia lanjut lebih sering ditemukan dalam kelompok yang mengalami stroke. Pola ini sejalan dengan pengetahuan medis bahwa faktor usia merupakan salah satu indikator risiko yang tidak bisa dihindari.\n",
        "\n",
        "3. Kadar Glukosa Rata-rata (Average Glucose Level)\n",
        "Pasien dengan kadar glukosa yang lebih tinggi memiliki kecenderungan lebih besar untuk mengalami stroke. Distribusi data menunjukkan perbedaan yang cukup mencolok antara kelompok stroke dan non-stroke dalam variabel ini. Hal ini sejalan dengan fakta medis bahwa kadar glukosa tinggi erat kaitannya dengan diabetes, yang merupakan salah satu faktor risiko stroke.\n",
        "\n",
        "4. Indeks Massa Tubuh (BMI)\n",
        "Meskipun terdapat beberapa data yang hilang pada variabel ini, BMI tetap memberikan informasi menarik. Pasien dengan BMI yang terlalu tinggi (obesitas) atau terlalu rendah juga memperlihatkan adanya kaitan dengan kejadian stroke, walaupun hubungannya tidak sekuat usia dan kadar glukosa.\n",
        "\n",
        "5. Riwayat Kesehatan (Hypertension & Heart Disease)\n",
        "Pasien yang memiliki riwayat hipertensi maupun penyakit jantung terbukti memiliki peluang lebih tinggi untuk mengalami stroke dibandingkan pasien tanpa riwayat tersebut. Hal ini konsisten dengan literatur medis yang ada.\n",
        "\n",
        "6. Variabel Demografis Lainnya\n",
        "Faktor seperti jenis kelamin, jenis pekerjaan, atau tipe tempat tinggal ternyata tidak menunjukkan perbedaan signifikan antara pasien stroke dan non-stroke. Namun, variabel kebiasaan merokok tetap menarik karena memberikan indikasi kontribusi terhadap risiko stroke, meskipun tidak sekuat faktor medis utama.\n",
        "\n",
        "Secara keseluruhan, tahap Exploratory Data Analysis ini memperlihatkan bahwa variabel yang paling berhubungan dengan kejadian stroke adalah usia, kadar glukosa, hipertensi, dan riwayat penyakit jantung. Temuan ini memperkuat pemahaman kita bahwa kombinasi faktor medis dan gaya hidup sangat berpengaruh terhadap kesehatan pembuluh darah serta potensi terjadinya stroke."
      ],
      "metadata": {
        "id": "U1fmyw4daaUM"
      }
    }
  ]
}