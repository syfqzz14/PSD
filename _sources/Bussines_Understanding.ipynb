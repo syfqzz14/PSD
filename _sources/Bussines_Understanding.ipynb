{
  "cells": [
    {
      "cell_type": "markdown",
      "metadata": {
        "id": "3zEe4RlgNoMe"
      },
      "source": [
        "# 💡Business Understanding\n",
        "\n",
        "Stroke merupakan salah satu penyakit tidak menular yang sangat berbahaya dan menjadi penyebab utama kematian maupun kecacatan di berbagai belahan dunia. Penyakit ini sering kali muncul secara tiba-tiba, namun faktor risikonya dapat dipelajari melalui data kesehatan individu. Oleh karena itu, pemanfaatan data dalam bidang medis menjadi sangat penting, khususnya untuk melakukan deteksi dini terhadap kemungkinan seseorang mengalami stroke.\n",
        "\n",
        "Link Dataset: https://www.kaggle.com/datasets/fedesoriano/stroke-prediction-dataset\n",
        "\n",
        "Dataset Stroke Prediction dari Kaggle menyediakan data pasien dengan berbagai atribut seperti usia, jenis kelamin, kadar glukosa, indeks massa tubuh (BMI), riwayat penyakit jantung, hipertensi, status perkawinan, jenis pekerjaan, serta kebiasaan merokok. Semua faktor ini diyakini memiliki kontribusi terhadap kemungkinan seseorang mengalami stroke.\n",
        "\n",
        "**Tujuan utama** dari analisis ini adalah untuk memahami faktor-faktor apa saja yang memiliki pengaruh besar terhadap terjadinya stroke. Dengan kata lain, kita ingin mengetahui karakteristik pasien yang cenderung berisiko tinggi.\n",
        "\n",
        "**Stakeholder** yang bisa mendapat manfaat dari hasil analisis ini adalah pihak rumah sakit, klinik, tenaga medis, lembaga kesehatan masyarakat, hingga perusahaan asuransi. Dengan informasi yang lebih jelas, mereka dapat membuat program pencegahan, menyusun strategi perawatan, serta melakukan intervensi medis lebih dini.\n",
        "\n",
        "**Keberhasilan** dari analisis ini dapat diukur dari seberapa baik faktor risiko dapat diidentifikasi dengan jelas. Dalam konteks pemodelan prediktif, keberhasilan juga bisa dilihat dari performa model dalam mengenali pasien dengan risiko stroke meskipun data yang digunakan memiliki permasalahan class imbalance.\n",
        "\n",
        "Secara keseluruhan, dari sisi Business Understanding, analisis ini bertujuan mendukung pencegahan dan pengelolaan stroke agar dampak sosial dan ekonomi dari penyakit ini bisa ditekan."
      ]
    }
  ],
  "metadata": {
    "colab": {
      "provenance": []
    },
    "kernelspec": {
      "display_name": "Python 3",
      "name": "python3"
    },
    "language_info": {
      "name": "python"
    }
  },
  "nbformat": 4,
  "nbformat_minor": 0
}
